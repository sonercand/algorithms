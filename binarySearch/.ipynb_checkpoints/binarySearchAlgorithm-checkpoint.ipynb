{
 "cells": [
  {
   "cell_type": "code",
   "execution_count": 1,
   "metadata": {},
   "outputs": [],
   "source": [
    "import matplotlib.pyplot as plt\n",
    "import pandas as pd\n",
    "%matplotlib inline\n"
   ]
  },
  {
   "cell_type": "code",
   "execution_count": 21,
   "metadata": {},
   "outputs": [],
   "source": [
    "from time import time\n",
    "\n",
    "def check_speed(function_):\n",
    "    performance = []\n",
    "    n = 2**20\n",
    "    while n < 2**28:\n",
    "        sorted = [k for k in range(n)]\n",
    "        # worst case (max) where item not found\n",
    "        t0 = time()*1000 # miliseconds\n",
    "        function_(sorted,-1)\n",
    "        t1 = time()*1000 # miliseconds\n",
    "        t_delta = (t1-t0)\n",
    "        print(n,t_delta)\n",
    "        n *= 2\n",
    "        performance.append((n,t_delta))\n",
    "    return performance\n",
    "\n",
    "def python_in (list_, target):\n",
    "    return target in list_\n",
    "\n",
    "def binarySearch(list_,target):\n",
    "    # set low and high, get middle\n",
    "    # while low<=high  itereate until no number unexplored\n",
    "        # if target = list_[middle]:\n",
    "            # return true\n",
    "        # elif  target> list_[middle]:\n",
    "            # target is on the right hand side so low = middle +1 and high is still the last element\n",
    "        # else\n",
    "            # target is on the left hand side so high = middle -1 and low is the same as the first element\n",
    "    low = 0 # first element\n",
    "    high = len(list_)-1 # last element\n",
    "    while low<=high: #iterate no element left unexplored\n",
    "        middle = int((low+high)/2)\n",
    "        if target == list_[middle]:\n",
    "            return True\n",
    "        elif target < list_[middle]:\n",
    "            high = middle - 1 \n",
    "        else:\n",
    "            low = middle + 1\n",
    "    return False \n",
    "        "
   ]
  },
  {
   "cell_type": "code",
   "execution_count": null,
   "metadata": {},
   "outputs": [
    {
     "name": "stdout",
     "output_type": "stream",
     "text": [
      "1048576 0.0\n",
      "2097152 0.0\n",
      "4194304 0.0\n",
      "8388608 0.0\n",
      "16777216 0.0\n",
      "33554432 0.0\n",
      "67108864 0.0\n",
      "134217728 1.99951171875\n",
      "268435456 8.00048828125\n"
     ]
    }
   ],
   "source": [
    "performance_bs = check_speed(binarySearch)"
   ]
  },
  {
   "cell_type": "code",
   "execution_count": 4,
   "metadata": {},
   "outputs": [
    {
     "name": "stdout",
     "output_type": "stream",
     "text": [
      "1048576 160.013671875\n",
      "2097152 170.046875\n",
      "4194304 730.060546875\n",
      "8388608 650.05859375\n",
      "16777216 1330.173828125\n",
      "33554432 2620.205078125\n",
      "67108864 5270.462890625\n"
     ]
    }
   ],
   "source": [
    "performance_pi = check_speed(python_in)"
   ]
  },
  {
   "cell_type": "code",
   "execution_count": 11,
   "metadata": {},
   "outputs": [],
   "source": [
    "bs = pd.DataFrame(performance_bs)\n",
    "bs.columns=['input_size','mseconds']\n",
    "pi = pd.DataFrame(performance_pi)\n",
    "pi.columns=['input_size','mseconds']"
   ]
  },
  {
   "cell_type": "code",
   "execution_count": 20,
   "metadata": {},
   "outputs": [
    {
     "data": {
      "image/png": "[encoded data removed]",
      "text/plain": [
       "<Figure size 432x288 with 1 Axes>"
      ]
     },
     "metadata": {},
     "output_type": "display_data"
    }
   ],
   "source": [
    "fig, ax = plt.subplots()\n",
    "_=ax.plot(bs.input_size,bs['10mseconds'],label='binarySearch',color='blue')\n",
    "_=ax.plot(pi.input_size,pi['10mseconds'],label='python in',color='green')\n",
    "_=ax.legend()\n",
    "_=ax.grid()"
   ]
  },
  {
   "cell_type": "code",
   "execution_count": null,
   "metadata": {},
   "outputs": [],
   "source": []
  }
 ],
 "metadata": {
  "kernelspec": {
   "display_name": "Python 3",
   "language": "python",
   "name": "python3"
  },
  "language_info": {
   "codemirror_mode": {
    "name": "ipython",
    "version": 3
   },
   "file_extension": ".py",
   "mimetype": "text/x-python",
   "name": "python",
   "nbconvert_exporter": "python",
   "pygments_lexer": "ipython3",
   "version": "3.6.5"
  }
 },
 "nbformat": 4,
 "nbformat_minor": 2
}
