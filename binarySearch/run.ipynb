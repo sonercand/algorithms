{
 "cells": [
  {
   "cell_type": "markdown",
   "metadata": {},
   "source": [
    "### Check if an element is in a collection \n",
    "Reduces computation complexity (O(n) to O(log n))                 \n",
    "    \n",
    "    search (A,t)\n",
    "      low = 0\n",
    "      high = n-1\n",
    "      while low<= high do\n",
    "          mid = (low+high)/2\n",
    "          if t = A[mid] then\n",
    "              return true\n",
    "          elseif t<A[mid] then\n",
    "              high = mid-1\n",
    "          else \n",
    "              low = mid+1\n",
    "       return false\n",
    "    end"
   ]
  },
  {
   "cell_type": "markdown",
   "metadata": {},
   "source": [
    "#### Import Libraries"
   ]
  },
  {
   "cell_type": "code",
   "execution_count": 1,
   "metadata": {},
   "outputs": [],
   "source": [
    "import matplotlib.pyplot as plt\n",
    "import pandas as pd\n",
    "from time import time\n",
    "%matplotlib inline"
   ]
  },
  {
   "cell_type": "markdown",
   "metadata": {},
   "source": [
    "#### Compare speed"
   ]
  },
  {
   "cell_type": "code",
   "execution_count": 2,
   "metadata": {},
   "outputs": [],
   "source": [
    "def check_speed(function_):\n",
    "    '''\n",
    "    args:\n",
    "        function_(function): to be tested\n",
    "    return:\n",
    "        performance(list)\n",
    "    '''\n",
    "    performance = []\n",
    "    n = 2**20\n",
    "    while n < 2**28:\n",
    "        sorted = [k for k in range(n)]\n",
    "        # worst case (max) where item not found\n",
    "        t0 = time()*1000 # miliseconds\n",
    "        function_(sorted,-1)\n",
    "        t1 = time()*1000 # miliseconds\n",
    "        t_delta = (t1-t0)\n",
    "        n *= 2\n",
    "        performance.append((n,t_delta))\n",
    "    return performance"
   ]
  },
  {
   "cell_type": "markdown",
   "metadata": {},
   "source": [
    "#### Standard python function"
   ]
  },
  {
   "cell_type": "code",
   "execution_count": 6,
   "metadata": {},
   "outputs": [],
   "source": [
    "def python_in (list_, target):\n",
    "    '''\n",
    "    args:\n",
    "        list_(list): ordered in asc order\n",
    "        target(element): single value\n",
    "    return:\n",
    "        True|False\n",
    "    '''\n",
    "    return target in list_"
   ]
  },
  {
   "cell_type": "markdown",
   "metadata": {},
   "source": [
    "#### Simple binary search"
   ]
  },
  {
   "cell_type": "code",
   "execution_count": 7,
   "metadata": {},
   "outputs": [],
   "source": [
    "def binarySearch(list_,target):\n",
    "    '''\n",
    "    args:\n",
    "        list_(list): ordered in asc order\n",
    "        target(element): single value\n",
    "    return:\n",
    "        True|False\n",
    "    '''\n",
    "    # set low and high, get middle\n",
    "    # while low<=high  itereate until no number unexplored\n",
    "        # if target = list_[middle]:\n",
    "            # return true\n",
    "        # elif  target> list_[middle]:\n",
    "            # target is on the right hand side so low = middle +1 and high is still the last element\n",
    "        # else\n",
    "            # target is on the left hand side so high = middle -1 and low is the same as the first element\n",
    "    low = 0 # first element\n",
    "    high = len(list_)-1 # last element\n",
    "    while low<=high: #iterate until no element left unexplored\n",
    "        middle = int((low+high)/2)\n",
    "        if target == list_[middle]:\n",
    "            return True\n",
    "        elif target < list_[middle]:\n",
    "            high = middle - 1 \n",
    "        else:\n",
    "            low = middle + 1\n",
    "    return False         "
   ]
  },
  {
   "cell_type": "markdown",
   "metadata": {},
   "source": [
    "#### Plot comparisions"
   ]
  },
  {
   "cell_type": "code",
   "execution_count": 8,
   "metadata": {},
   "outputs": [
    {
     "data": {
      "image/png": "[encoded data removed]",
      "text/plain": [
       "<Figure size 432x288 with 1 Axes>"
      ]
     },
     "metadata": {
      "needs_background": "light"
     },
     "output_type": "display_data"
    }
   ],
   "source": [
    "# collect results\n",
    "performance_bs = check_speed(binarySearch)\n",
    "performance_pi = check_speed(python_in)\n",
    "# transfer results to data frames\n",
    "bs = pd.DataFrame(performance_bs)\n",
    "bs.columns=['input_size','mseconds']\n",
    "pi = pd.DataFrame(performance_pi)\n",
    "pi.columns=['input_size','mseconds']\n",
    "# plot\n",
    "fig, ax = plt.subplots()\n",
    "_=ax.plot(bs.input_size,bs['mseconds'],label='binarySearch',color='blue')\n",
    "_=ax.plot(pi.input_size,pi['mseconds'],label='python in',color='green')\n",
    "_=ax.legend()\n",
    "_=ax.grid()\n",
    "_=ax.set_xlabel('input size')\n",
    "_=ax.set_ylabel('mili seconds')"
   ]
  },
  {
   "cell_type": "code",
   "execution_count": null,
   "metadata": {},
   "outputs": [],
   "source": []
  }
 ],
 "metadata": {
  "kernelspec": {
   "display_name": "Python 3",
   "language": "python",
   "name": "python3"
  },
  "language_info": {
   "codemirror_mode": {
    "name": "ipython",
    "version": 3
   },
   "file_extension": ".py",
   "mimetype": "text/x-python",
   "name": "python",
   "nbconvert_exporter": "python",
   "pygments_lexer": "ipython3",
   "version": "3.6.8"
  }
 },
 "nbformat": 4,
 "nbformat_minor": 2
}
