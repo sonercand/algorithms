{
 "cells": [
  {
   "cell_type": "markdown",
   "metadata": {},
   "source": [
    "## Algorithms to compare"
   ]
  },
  {
   "cell_type": "code",
   "execution_count": 1,
   "metadata": {},
   "outputs": [],
   "source": [
    "def naiveFib(n):\n",
    "    '''\n",
    "    args: \n",
    "        n\n",
    "    return:\n",
    "        fibNumber = nth fibonacci number\n",
    "    '''\n",
    "    if n<=1:\n",
    "        fibNumber = n\n",
    "    else:\n",
    "        fibNumber = naiveFib(n-1) + naiveFib(n-2)\n",
    "    return fibNumber\n",
    "\n",
    "def fibonacciNumbers(n):\n",
    "    '''\n",
    "    Calculates the fn for nth number\n",
    "    args:\n",
    "        n int\n",
    "    returns:\n",
    "        fibonnaci number int\n",
    "    '''\n",
    "    fibonacciNumbers = [0,1]\n",
    "    if n>1:\n",
    "        for k in range(2,n+1,1):\n",
    "            fk = fibonacciNumbers[-1]+fibonacciNumbers[-2]\n",
    "            fibonacciNumbers.append(fk)\n",
    "    return fibonacciNumbers[n]"
   ]
  },
  {
   "cell_type": "code",
   "execution_count": 2,
   "metadata": {},
   "outputs": [],
   "source": [
    "from checkSpeed import check_speed,plotPerformance"
   ]
  },
  {
   "cell_type": "code",
   "execution_count": 3,
   "metadata": {
    "scrolled": true
   },
   "outputs": [
    {
     "name": "stdout",
     "output_type": "stream",
     "text": [
      "0\n",
      "1\n",
      "1\n",
      "2\n",
      "3\n",
      "5\n",
      "8\n",
      "13\n",
      "21\n",
      "34\n",
      "55\n",
      "89\n",
      "144\n",
      "233\n",
      "377\n",
      "610\n",
      "987\n",
      "1597\n",
      "2584\n",
      "4181\n",
      "6765\n",
      "10946\n",
      "17711\n",
      "28657\n",
      "46368\n",
      "75025\n",
      "121393\n",
      "196418\n",
      "317811\n",
      "514229\n",
      "832040\n",
      "1346269\n",
      "2178309\n",
      "3524578\n",
      "5702887\n",
      "9227465\n",
      "0\n",
      "1\n",
      "1\n",
      "2\n",
      "3\n",
      "5\n",
      "8\n",
      "13\n",
      "21\n",
      "34\n",
      "55\n",
      "89\n",
      "144\n",
      "233\n",
      "377\n",
      "610\n",
      "987\n",
      "1597\n",
      "2584\n",
      "4181\n",
      "6765\n",
      "10946\n",
      "17711\n",
      "28657\n",
      "46368\n",
      "75025\n",
      "121393\n",
      "196418\n",
      "317811\n",
      "514229\n",
      "832040\n",
      "1346269\n",
      "2178309\n",
      "3524578\n",
      "5702887\n",
      "9227465\n"
     ]
    }
   ],
   "source": [
    "p_nfib = check_speed(naiveFib,limit=35)\n",
    "p_lfib = check_speed(fibonacciNumbers,35)"
   ]
  },
  {
   "cell_type": "code",
   "execution_count": null,
   "metadata": {},
   "outputs": [],
   "source": [
    "# transfer results to data frames\n",
    "bs = pd.DataFrame(performance_bs)\n",
    "bs.columns=['input_size','mseconds']\n",
    "pi = pd.DataFrame(performance_pi)\n",
    "pi.columns=['input_size','mseconds']\n",
    "# plot\n",
    "fig, ax = plt.subplots()\n",
    "_=ax.plot(bs.input_size,bs['mseconds'],label='binarySearch',color='blue')\n",
    "_=ax.plot(pi.input_size,pi['mseconds'],label='python in',color='green')\n",
    "_=ax.legend()\n",
    "_=ax.grid()\n",
    "_=ax.set_xlabel('input size')\n",
    "_=ax.set_ylabel('mili seconds')"
   ]
  }
 ],
 "metadata": {
  "kernelspec": {
   "display_name": "Python 3",
   "language": "python",
   "name": "python3"
  },
  "language_info": {
   "codemirror_mode": {
    "name": "ipython",
    "version": 3
   },
   "file_extension": ".py",
   "mimetype": "text/x-python",
   "name": "python",
   "nbconvert_exporter": "python",
   "pygments_lexer": "ipython3",
   "version": "3.6.8"
  }
 },
 "nbformat": 4,
 "nbformat_minor": 4
}
