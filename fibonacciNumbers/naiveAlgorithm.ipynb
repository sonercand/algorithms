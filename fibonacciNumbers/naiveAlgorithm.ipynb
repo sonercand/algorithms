{
 "cells": [
  {
   "cell_type": "markdown",
   "metadata": {},
   "source": [
    "naive algorithm: Calculates fibonacci numbers\n",
    "fibonacci sequence = 0, 1, 1, 2, 3, 5, 8, 13, 21, 34, ...\n",
    "\n",
    "    Function naiveAlgorithm(n):\n",
    "        if n<=1:\n",
    "            return n\n",
    "        else:\n",
    "            return naiveAlgorithm(n-1) + naiveAlgorithm(n-2)"
   ]
  },
  {
   "cell_type": "code",
   "execution_count": 1,
   "metadata": {},
   "outputs": [],
   "source": [
    "def naiveFib(n):\n",
    "    '''\n",
    "    args: \n",
    "        n\n",
    "    return:\n",
    "        fibNumber = nth fibonacci number\n",
    "    '''\n",
    "    if n<=1:\n",
    "        fibNumber = n\n",
    "    else:\n",
    "        fibNumber = naiveFib(n-1) + naiveFib(n-2)\n",
    "    return fibNumber"
   ]
  },
  {
   "cell_type": "code",
   "execution_count": 2,
   "metadata": {},
   "outputs": [
    {
     "name": "stdout",
     "output_type": "stream",
     "text": [
      "n =0\n",
      "fibonacci number = 0\n",
      "n =1\n",
      "fibonacci number = 1\n",
      "n =2\n",
      "fibonacci number = 1\n",
      "n =3\n",
      "fibonacci number = 2\n",
      "n =4\n",
      "fibonacci number = 3\n",
      "n =5\n",
      "fibonacci number = 5\n",
      "n =6\n",
      "fibonacci number = 8\n",
      "n =7\n",
      "fibonacci number = 13\n",
      "n =8\n",
      "fibonacci number = 21\n",
      "n =9\n",
      "fibonacci number = 34\n",
      "n =10\n",
      "fibonacci number = 55\n"
     ]
    }
   ],
   "source": [
    "n=0\n",
    "while n<=10:\n",
    "    print('n ='+str(n)+'\\n'+'fibonacci number = ' +str(naiveFib(n)))\n",
    "    n+=1"
   ]
  },
  {
   "cell_type": "code",
   "execution_count": 3,
   "metadata": {},
   "outputs": [],
   "source": [
    "from checkSpeed import check_speed,plotPerformance"
   ]
  },
  {
   "cell_type": "code",
   "execution_count": 4,
   "metadata": {},
   "outputs": [
    {
     "name": "stdout",
     "output_type": "stream",
     "text": [
      "0\n",
      "1\n",
      "1\n",
      "2\n",
      "3\n",
      "5\n",
      "8\n",
      "13\n",
      "21\n",
      "34\n",
      "55\n",
      "89\n",
      "144\n",
      "233\n",
      "377\n",
      "610\n",
      "987\n",
      "1597\n",
      "2584\n",
      "4181\n",
      "6765\n",
      "10946\n",
      "17711\n",
      "28657\n",
      "46368\n",
      "75025\n",
      "121393\n",
      "196418\n",
      "317811\n",
      "514229\n",
      "832040\n",
      "1346269\n",
      "2178309\n",
      "3524578\n",
      "5702887\n",
      "9227465\n"
     ]
    }
   ],
   "source": [
    "performance = check_speed(naiveFib,limit=35)"
   ]
  },
  {
   "cell_type": "code",
   "execution_count": 5,
   "metadata": {},
   "outputs": [
    {
     "data": {
      "text/plain": [
       "True"
      ]
     },
     "execution_count": 5,
     "metadata": {},
     "output_type": "execute_result"
    },
    {
     "data": {
      "image/png": "[encoded data removed]",
      "text/plain": [
       "<Figure size 432x288 with 1 Axes>"
      ]
     },
     "metadata": {},
     "output_type": "display_data"
    }
   ],
   "source": [
    "plotPerformance(performance,'Naive Algorithm')"
   ]
  },
  {
   "cell_type": "code",
   "execution_count": null,
   "metadata": {},
   "outputs": [],
   "source": []
  }
 ],
 "metadata": {
  "kernelspec": {
   "display_name": "Python 3",
   "language": "python",
   "name": "python3"
  },
  "language_info": {
   "codemirror_mode": {
    "name": "ipython",
    "version": 3
   },
   "file_extension": ".py",
   "mimetype": "text/x-python",
   "name": "python",
   "nbconvert_exporter": "python",
   "pygments_lexer": "ipython3",
   "version": "3.6.5"
  }
 },
 "nbformat": 4,
 "nbformat_minor": 2
}
