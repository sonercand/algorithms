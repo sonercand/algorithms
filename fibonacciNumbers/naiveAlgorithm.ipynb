{
 "cells": [
  {
   "cell_type": "markdown",
   "metadata": {},
   "source": [
    "naive algorithm: Calculates fibonacci numbers\n",
    "fibonacci sequence = 0, 1, 1, 2, 3, 5, 8, 13, 21, 34, ...\n",
    "\n",
    "    Function naiveAlgorithm(n):\n",
    "        if n<=1:\n",
    "            return n\n",
    "        else:\n",
    "            return naiveAlgorithm(n-1) + naiveAlgorithm(n-2)"
   ]
  },
  {
   "cell_type": "code",
   "execution_count": 1,
   "metadata": {},
   "outputs": [],
   "source": [
    "# imports\n",
    "import matplotlib.pyplot as plt\n",
    "import pandas as pd\n",
    "from time import time\n",
    "%matplotlib inline"
   ]
  },
  {
   "cell_type": "code",
   "execution_count": 2,
   "metadata": {},
   "outputs": [],
   "source": [
    "def naiveFib(n):\n",
    "    '''\n",
    "    args: \n",
    "        n\n",
    "    return:\n",
    "        fibNumber = nth fibonacci number\n",
    "    '''\n",
    "    if n<=1:\n",
    "        fibNumber = n\n",
    "    else:\n",
    "        fibNumber = naiveFib(n-1) + naiveFib(n-2)\n",
    "    return fibNumber"
   ]
  },
  {
   "cell_type": "code",
   "execution_count": 3,
   "metadata": {},
   "outputs": [],
   "source": [
    "def check_speed(function_,limit):\n",
    "    '''\n",
    "    args:\n",
    "        function_(function): to be tested\n",
    "    return:\n",
    "        performance(list)\n",
    "    '''\n",
    "    performance = []\n",
    "    n=0\n",
    "    while n <= limit:\n",
    "        # worst case (max) where item not found\n",
    "        t0 = time()*1000 # miliseconds\n",
    "        function_(n)\n",
    "        t1 = time()*1000 # miliseconds\n",
    "        t_delta = (t1-t0)\n",
    "        n +=1\n",
    "        performance.append((n,t_delta))\n",
    "    return performance"
   ]
  },
  {
   "cell_type": "code",
   "execution_count": 4,
   "metadata": {},
   "outputs": [
    {
     "name": "stdout",
     "output_type": "stream",
     "text": [
      "n =0\n",
      "fibonacci number = 0\n",
      "n =1\n",
      "fibonacci number = 1\n",
      "n =2\n",
      "fibonacci number = 1\n",
      "n =3\n",
      "fibonacci number = 2\n",
      "n =4\n",
      "fibonacci number = 3\n",
      "n =5\n",
      "fibonacci number = 5\n",
      "n =6\n",
      "fibonacci number = 8\n",
      "n =7\n",
      "fibonacci number = 13\n",
      "n =8\n",
      "fibonacci number = 21\n",
      "n =9\n",
      "fibonacci number = 34\n",
      "n =10\n",
      "fibonacci number = 55\n"
     ]
    }
   ],
   "source": [
    "n=0\n",
    "while n<=10:\n",
    "    print('n ='+str(n)+'\\n'+'fibonacci number = ' +str(naiveFib(n)))\n",
    "    n+=1"
   ]
  },
  {
   "cell_type": "code",
   "execution_count": 5,
   "metadata": {},
   "outputs": [],
   "source": [
    "performance = check_speed(naiveFib,limit=35)"
   ]
  },
  {
   "cell_type": "code",
   "execution_count": 6,
   "metadata": {},
   "outputs": [
    {
     "data": {
      "image/png": "[encoded data removed]",
      "text/plain": [
       "<Figure size 432x288 with 1 Axes>"
      ]
     },
     "metadata": {},
     "output_type": "display_data"
    }
   ],
   "source": [
    "bs = pd.DataFrame(performance)\n",
    "bs.columns=['input_size','mseconds']\n",
    "fig, ax = plt.subplots()\n",
    "_=ax.set_title('Fibonacci Numbers')\n",
    "_=ax.plot(bs.input_size,bs['mseconds'],label='naive algorithm',color='blue')\n",
    "_=ax.legend()\n",
    "_=ax.grid()\n",
    "_=ax.set_xlabel('input size')\n",
    "_=ax.set_ylabel('mili seconds')"
   ]
  },
  {
   "cell_type": "code",
   "execution_count": null,
   "metadata": {},
   "outputs": [],
   "source": []
  }
 ],
 "metadata": {
  "kernelspec": {
   "display_name": "Python 3",
   "language": "python",
   "name": "python3"
  },
  "language_info": {
   "codemirror_mode": {
    "name": "ipython",
    "version": 3
   },
   "file_extension": ".py",
   "mimetype": "text/x-python",
   "name": "python",
   "nbconvert_exporter": "python",
   "pygments_lexer": "ipython3",
   "version": "3.6.5"
  }
 },
 "nbformat": 4,
 "nbformat_minor": 2
}
