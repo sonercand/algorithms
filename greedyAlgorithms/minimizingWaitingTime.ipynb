{
 "cells": [
  {
   "cell_type": "markdown",
   "metadata": {},
   "source": [
    "* input : n patients each with tn expected time to be seen by a physician\n",
    "* output: patient queue arrangement\n",
    "* task: minimum sum of waiting time\n",
    "\n",
    "> eg: \n",
    "    \n",
    "    to,t1,...,tn are treatment times and w0, w1,... ,wn are waiting times per patient then : \n",
    "    \n",
    "    w0= 0\n",
    "    w1 = t0\n",
    "    w2 = t1 + t0\n",
    "    w3 = t2 + t1 + t0\n",
    "    ...\n",
    "    wn = w(n-1) + t(n-1)\n",
    "    \n",
    "    then\n",
    "    total_waiting_time = Σw | j 0:n\n",
    "    total_waiting_time = n*t0 + (n-1)*t1 + (n-2)*t2 + ... + 2*t(n-2) + t(n-1)\n",
    "    \n",
    "    given that coefficients n>n-1>n-2>...>0:\n",
    "    the queue arrangement that makes the total_waiting_time smallest is t0<t1<t2<...<tn\n",
    "     "
   ]
  },
  {
   "cell_type": "markdown",
   "metadata": {},
   "source": [
    "## Naive Algorithm"
   ]
  },
  {
   "cell_type": "code",
   "execution_count": 1,
   "metadata": {},
   "outputs": [],
   "source": [
    "import itertools\n",
    "import numpy as np\n",
    "\n",
    "def getPermutations(list_):\n",
    "    # list of all possible que arrangements by treating each patient\n",
    "    return list(itertools.permutations(list_))\n",
    "\n",
    "def getTotalWaitingTime(perm_list, waiting_times):\n",
    "    # total waiting times per queue arrangement\n",
    "    waiting_time_perm = {}\n",
    "    for perm in perm_list:\n",
    "        new_waiting_times = [waiting_times[k] for k in perm] # rearange waiting times according to new que arrangement of pattients\n",
    "        k=0\n",
    "        total_waiting_times = 0\n",
    "        for waiting_time in new_waiting_times:\n",
    "            if k == 0:\n",
    "                waiting_time_given_patient = 0\n",
    "            else:\n",
    "                waiting_time_given_patient += new_waiting_times[k-1]\n",
    "            total_waiting_times +=waiting_time_given_patient\n",
    "            k+=1\n",
    "        waiting_time_perm[perm] = total_waiting_times\n",
    "    return waiting_time_perm\n",
    "\n",
    "\n",
    "def getOptArrangement(waiting_time_perm):\n",
    "    # optimal queue arrangement and minimum patitient waiting time\n",
    "    minValue = min(list(waiting_time_perm.values()))\n",
    "    queue_arrangement = [arrangement for arrangement, value in waiting_time_perm.items() if value == minValue][0]\n",
    "    return minValue, queue_arrangement"
   ]
  },
  {
   "cell_type": "code",
   "execution_count": 2,
   "metadata": {},
   "outputs": [
    {
     "data": {
      "text/plain": [
       "(200, (4, 3, 2, 1, 0))"
      ]
     },
     "execution_count": 2,
     "metadata": {},
     "output_type": "execute_result"
    }
   ],
   "source": [
    "waiting_times = [50, 40, 30, 20, 10]\n",
    "patient_list = [0, 1, 2, 3, 4]\n",
    "perm_list =  getPermutations(patient_list)\n",
    "waiting_time_perm = getTotalWaitingTime(perm_list, waiting_times)\n",
    "getOptArrangement(waiting_time_perm)"
   ]
  },
  {
   "cell_type": "code",
   "execution_count": 3,
   "metadata": {},
   "outputs": [],
   "source": [
    "# performance"
   ]
  },
  {
   "cell_type": "code",
   "execution_count": 4,
   "metadata": {},
   "outputs": [],
   "source": [
    "import matplotlib.pyplot as plt\n",
    "import pandas as pd\n",
    "from time import time\n",
    "get_ipython().run_line_magic('matplotlib', 'inline')\n",
    "import numpy as np\n",
    "def plotPerformance(performance,algoName,title):\n",
    "    try:\n",
    "        bs = pd.DataFrame(performance)\n",
    "        bs.columns=['input_size','mseconds']\n",
    "        fig, ax = plt.subplots()\n",
    "        _=ax.set_title(title)\n",
    "        _=ax.plot(bs.input_size,bs['mseconds'],label=algoName,color='blue')\n",
    "        _=ax.legend()\n",
    "        _=ax.grid()\n",
    "        _=ax.set_xlabel('input size')\n",
    "        _=ax.set_ylabel('mili seconds')\n",
    "        return True\n",
    "    except Exception as e:\n",
    "        print(e)\n",
    "        return False"
   ]
  },
  {
   "cell_type": "code",
   "execution_count": 5,
   "metadata": {},
   "outputs": [
    {
     "name": "stderr",
     "output_type": "stream",
     "text": [
      "C:\\Program Files (x86)\\Microsoft Visual Studio\\Shared\\Anaconda3_64\\lib\\site-packages\\ipykernel_launcher.py:3: DeprecationWarning: This function is deprecated. Please call randint(1, 50 + 1) instead\n",
      "  This is separate from the ipykernel package so we can avoid doing imports until\n"
     ]
    }
   ],
   "source": [
    "performance=[]\n",
    "for k in range(6):\n",
    "    waiting_times = list(np.random.random_integers(1,50,k+2))\n",
    "    patient_list = [m for m in range(len(waiting_times))]\n",
    "    t0 = time()*1000 # miliseconds\n",
    "    perm_list =  getPermutations(patient_list)\n",
    "    waiting_time_perm = getTotalWaitingTime(perm_list, waiting_times)\n",
    "    getOptArrangement(waiting_time_perm)\n",
    "    t1 = time()*1000 # miliseconds\n",
    "    t_delta = (t1-t0)\n",
    "    k +=1\n",
    "    performance.append((k,t_delta))"
   ]
  },
  {
   "cell_type": "code",
   "execution_count": 6,
   "metadata": {},
   "outputs": [
    {
     "data": {
      "text/plain": [
       "True"
      ]
     },
     "execution_count": 6,
     "metadata": {},
     "output_type": "execute_result"
    },
    {
     "data": {
      "image/png": "[encoded data removed]",
      "text/plain": [
       "<Figure size 432x288 with 1 Axes>"
      ]
     },
     "metadata": {},
     "output_type": "display_data"
    }
   ],
   "source": [
    "plotPerformance(performance,'naive','min_waiting_time')"
   ]
  },
  {
   "cell_type": "code",
   "execution_count": null,
   "metadata": {},
   "outputs": [],
   "source": []
  }
 ],
 "metadata": {
  "kernelspec": {
   "display_name": "Python 3",
   "language": "python",
   "name": "python3"
  },
  "language_info": {
   "codemirror_mode": {
    "name": "ipython",
    "version": 3
   },
   "file_extension": ".py",
   "mimetype": "text/x-python",
   "name": "python",
   "nbconvert_exporter": "python",
   "pygments_lexer": "ipython3",
   "version": "3.6.5"
  }
 },
 "nbformat": 4,
 "nbformat_minor": 2
}
