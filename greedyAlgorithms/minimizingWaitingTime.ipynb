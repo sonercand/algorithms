{
 "cells": [
  {
   "cell_type": "markdown",
   "metadata": {},
   "source": [
    "* input : n patients each with tn expected time to be seen by a physician\n",
    "* output: patient queue arrangement\n",
    "* task: minimum sum of waiting time"
   ]
  },
  {
   "cell_type": "code",
   "execution_count": null,
   "metadata": {},
   "outputs": [],
   "source": [
    "def greedyAlgorithm (waiting_times, patients):\n",
    "    "
   ]
  },
  {
   "cell_type": "code",
   "execution_count": null,
   "metadata": {},
   "outputs": [],
   "source": [
    "def optimalAlgorithm(waiting_times, patients)"
   ]
  },
  {
   "cell_type": "code",
   "execution_count": 33,
   "metadata": {},
   "outputs": [],
   "source": [
    "waiting_times = [10, 35, 20]\n",
    "patients = [0,1,2]"
   ]
  },
  {
   "cell_type": "code",
   "execution_count": 23,
   "metadata": {},
   "outputs": [
    {
     "name": "stdout",
     "output_type": "stream",
     "text": [
      "[(0, 1, 2), (0, 2, 1), (1, 0, 2), (1, 2, 0), (2, 0, 1), (2, 1, 0)]\n"
     ]
    }
   ],
   "source": [
    "import itertools\n",
    "perm_list = list(itertools.permutations(patients))\n",
    "print(perm_list)\n",
    "waiting_time_perm = {}\n",
    "for perm in perm_list:\n",
    "    new_waiting_times = [waiting_times[k] for k in perm] # rearange waiting times according to new que arrangement of pattients\n",
    "    k=0\n",
    "    total_waiting_times = 0\n",
    "    for waiting_time in new_waiting_times:\n",
    "        if k == 0:\n",
    "            waiting_time_given_patient = 0\n",
    "        else:\n",
    "            waiting_time_given_patient += new_waiting_times[k-1]\n",
    "        total_waiting_times +=waiting_time_given_patient\n",
    "        k+=1\n",
    "    waiting_time_perm[perm] = total_waiting_times"
   ]
  },
  {
   "cell_type": "code",
   "execution_count": 24,
   "metadata": {},
   "outputs": [
    {
     "data": {
      "text/plain": [
       "{(0, 1, 2): 55,\n",
       " (0, 2, 1): 40,\n",
       " (1, 0, 2): 80,\n",
       " (1, 2, 0): 90,\n",
       " (2, 0, 1): 50,\n",
       " (2, 1, 0): 75}"
      ]
     },
     "execution_count": 24,
     "metadata": {},
     "output_type": "execute_result"
    }
   ],
   "source": [
    "waiting_time_perm"
   ]
  },
  {
   "cell_type": "code",
   "execution_count": 18,
   "metadata": {},
   "outputs": [
    {
     "data": {
      "text/plain": [
       "[20, 35, 10]"
      ]
     },
     "execution_count": 18,
     "metadata": {},
     "output_type": "execute_result"
    }
   ],
   "source": [
    "waiting_times_new = [waiting_times[k] for k in perm]\n",
    "waiting_times_new"
   ]
  },
  {
   "cell_type": "code",
   "execution_count": 65,
   "metadata": {},
   "outputs": [],
   "source": [
    "import itertools\n",
    "import numpy as np\n",
    "\n",
    "def getPermutations(list_):\n",
    "    # list of all possible que arrangements by treating each patient\n",
    "    return list(itertools.permutations(list_))\n",
    "\n",
    "def getTotalWaitingTime(perm_list, waiting_times):\n",
    "    # total waiting times per queue arrangement\n",
    "    waiting_time_perm = {}\n",
    "    for perm in perm_list:\n",
    "        new_waiting_times = [waiting_times[k] for k in perm] # rearange waiting times according to new que arrangement of pattients\n",
    "        k=0\n",
    "        total_waiting_times = 0\n",
    "        for waiting_time in new_waiting_times:\n",
    "            if k == 0:\n",
    "                waiting_time_given_patient = 0\n",
    "            else:\n",
    "                waiting_time_given_patient += new_waiting_times[k-1]\n",
    "            total_waiting_times +=waiting_time_given_patient\n",
    "            k+=1\n",
    "        waiting_time_perm[perm] = total_waiting_times\n",
    "    return waiting_time_perm\n",
    "\n",
    "\n",
    "def getOptArrangement(waiting_time_perm):\n",
    "    # optimal queue arrangement and minimum patitient waiting time\n",
    "    minValue = min(list(waiting_time_perm.values()))\n",
    "    queue_arrangement = [arrangement for arrangement, value in waiting_time_perm.items() if value == minValue][0]\n",
    "    return minValue, queue_arrangement"
   ]
  },
  {
   "cell_type": "code",
   "execution_count": 66,
   "metadata": {},
   "outputs": [
    {
     "ename": "NameError",
     "evalue": "name 'list_' is not defined",
     "output_type": "error",
     "traceback": [
      "\u001b[1;31m---------------------------------------------------------------------------\u001b[0m",
      "\u001b[1;31mNameError\u001b[0m                                 Traceback (most recent call last)",
      "\u001b[1;32m<ipython-input-66-87cb7827769e>\u001b[0m in \u001b[0;36m<module>\u001b[1;34m()\u001b[0m\n\u001b[0;32m      1\u001b[0m \u001b[0mwaiting_times\u001b[0m \u001b[1;33m=\u001b[0m \u001b[1;33m[\u001b[0m\u001b[1;36m50\u001b[0m\u001b[1;33m,\u001b[0m \u001b[1;36m40\u001b[0m\u001b[1;33m,\u001b[0m \u001b[1;36m30\u001b[0m\u001b[1;33m,\u001b[0m \u001b[1;36m20\u001b[0m\u001b[1;33m,\u001b[0m \u001b[1;36m10\u001b[0m\u001b[1;33m]\u001b[0m\u001b[1;33m\u001b[0m\u001b[0m\n\u001b[0;32m      2\u001b[0m \u001b[0mpatient_list\u001b[0m \u001b[1;33m=\u001b[0m \u001b[1;33m[\u001b[0m\u001b[1;36m0\u001b[0m\u001b[1;33m,\u001b[0m \u001b[1;36m1\u001b[0m\u001b[1;33m,\u001b[0m \u001b[1;36m2\u001b[0m\u001b[1;33m,\u001b[0m \u001b[1;36m3\u001b[0m\u001b[1;33m,\u001b[0m \u001b[1;36m4\u001b[0m\u001b[1;33m]\u001b[0m\u001b[1;33m\u001b[0m\u001b[0m\n\u001b[1;32m----> 3\u001b[1;33m \u001b[0mperm_list\u001b[0m \u001b[1;33m=\u001b[0m  \u001b[0mgetPermutations\u001b[0m\u001b[1;33m(\u001b[0m\u001b[0mlist_\u001b[0m\u001b[1;33m)\u001b[0m\u001b[1;33m\u001b[0m\u001b[0m\n\u001b[0m\u001b[0;32m      4\u001b[0m \u001b[0mwaiting_time_perm\u001b[0m \u001b[1;33m=\u001b[0m \u001b[0mgetTotalWaitingTime\u001b[0m\u001b[1;33m(\u001b[0m\u001b[0mperm_list\u001b[0m\u001b[1;33m,\u001b[0m \u001b[0mwaiting_times\u001b[0m\u001b[1;33m)\u001b[0m\u001b[1;33m\u001b[0m\u001b[0m\n\u001b[0;32m      5\u001b[0m \u001b[0mgetOptArrangement\u001b[0m\u001b[1;33m\u001b[0m\u001b[0m\n",
      "\u001b[1;31mNameError\u001b[0m: name 'list_' is not defined"
     ]
    }
   ],
   "source": [
    "waiting_times = [50, 40, 30, 20, 10]\n",
    "patient_list = [0, 1, 2, 3, 4]\n",
    "perm_list =  getPermutations(list_)\n",
    "waiting_time_perm = getTotalWaitingTime(perm_list, waiting_times)\n",
    "getOptArrangement"
   ]
  },
  {
   "cell_type": "code",
   "execution_count": null,
   "metadata": {},
   "outputs": [],
   "source": []
  }
 ],
 "metadata": {
  "kernelspec": {
   "display_name": "Python 3",
   "language": "python",
   "name": "python3"
  },
  "language_info": {
   "codemirror_mode": {
    "name": "ipython",
    "version": 3
   },
   "file_extension": ".py",
   "mimetype": "text/x-python",
   "name": "python",
   "nbconvert_exporter": "python",
   "pygments_lexer": "ipython3",
   "version": "3.6.5"
  }
 },
 "nbformat": 4,
 "nbformat_minor": 2
}
