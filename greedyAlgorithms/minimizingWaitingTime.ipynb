{
 "cells": [
  {
   "cell_type": "markdown",
   "metadata": {},
   "source": [
    "* input : n patients each with tn expected time to be seen by a physician\n",
    "* output: patient queue arrangement\n",
    "* task: minimum sum of waiting time"
   ]
  },
  {
   "cell_type": "markdown",
   "metadata": {},
   "source": [
    "## Greedy Algorithm"
   ]
  },
  {
   "cell_type": "code",
   "execution_count": 65,
   "metadata": {},
   "outputs": [],
   "source": [
    "import itertools\n",
    "import numpy as np\n",
    "\n",
    "def getPermutations(list_):\n",
    "    # list of all possible que arrangements by treating each patient\n",
    "    return list(itertools.permutations(list_))\n",
    "\n",
    "def getTotalWaitingTime(perm_list, waiting_times):\n",
    "    # total waiting times per queue arrangement\n",
    "    waiting_time_perm = {}\n",
    "    for perm in perm_list:\n",
    "        new_waiting_times = [waiting_times[k] for k in perm] # rearange waiting times according to new que arrangement of pattients\n",
    "        k=0\n",
    "        total_waiting_times = 0\n",
    "        for waiting_time in new_waiting_times:\n",
    "            if k == 0:\n",
    "                waiting_time_given_patient = 0\n",
    "            else:\n",
    "                waiting_time_given_patient += new_waiting_times[k-1]\n",
    "            total_waiting_times +=waiting_time_given_patient\n",
    "            k+=1\n",
    "        waiting_time_perm[perm] = total_waiting_times\n",
    "    return waiting_time_perm\n",
    "\n",
    "\n",
    "def getOptArrangement(waiting_time_perm):\n",
    "    # optimal queue arrangement and minimum patitient waiting time\n",
    "    minValue = min(list(waiting_time_perm.values()))\n",
    "    queue_arrangement = [arrangement for arrangement, value in waiting_time_perm.items() if value == minValue][0]\n",
    "    return minValue, queue_arrangement"
   ]
  },
  {
   "cell_type": "code",
   "execution_count": 68,
   "metadata": {},
   "outputs": [
    {
     "data": {
      "text/plain": [
       "(200, (4, 3, 2, 1, 0))"
      ]
     },
     "execution_count": 68,
     "metadata": {},
     "output_type": "execute_result"
    }
   ],
   "source": [
    "waiting_times = [50, 40, 30, 20, 10]\n",
    "patient_list = [0, 1, 2, 3, 4]\n",
    "perm_list =  getPermutations(patient_list)\n",
    "waiting_time_perm = getTotalWaitingTime(perm_list, waiting_times)\n",
    "getOptArrangement(waiting_time_perm)"
   ]
  },
  {
   "cell_type": "code",
   "execution_count": null,
   "metadata": {},
   "outputs": [],
   "source": []
  }
 ],
 "metadata": {
  "kernelspec": {
   "display_name": "Python 3",
   "language": "python",
   "name": "python3"
  },
  "language_info": {
   "codemirror_mode": {
    "name": "ipython",
    "version": 3
   },
   "file_extension": ".py",
   "mimetype": "text/x-python",
   "name": "python",
   "nbconvert_exporter": "python",
   "pygments_lexer": "ipython3",
   "version": "3.6.5"
  }
 },
 "nbformat": 4,
 "nbformat_minor": 2
}
