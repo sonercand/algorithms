{
 "cells": [
  {
   "cell_type": "markdown",
   "metadata": {},
   "source": [
    "#### minimizing the number of groups of numbers\n",
    "Problem: How can you arrange given list of students by their age into groups so that we have minimum number of groups provided that within each group oldest student can be older than the youngest student at most by 2 years.\n",
    "\n",
    "> any two numbers in any group can only differ at most by 2. So  1,2 and 3 can be a group but 1,2,3, and 4 cannot be.\n",
    "\n",
    "naive algorithm:\n",
    "    \n",
    "    k = count of numbers in the array\n",
    "    while k>0:\n",
    "    \n",
    "        combinations = combinations(list,k) \n",
    "        \n",
    "        for combination in combinations:\n",
    "       \n",
    "            if max(combination) - min(combination)<3:\n",
    "                record that combination\n",
    "                pop combination from the list\n",
    "        k-=1\n",
    "       \n",
    "    return combination record\n",
    "    \n",
    "#### Example\n",
    "    \n",
    "    1,2,3,4\n",
    "    combinations for first group  with 4 elements\n",
    "    1,2,3,4\n",
    "    combinations for first group with 3 elements\n",
    "    (1,2,3), (4)\n",
    "    (1,2,4), (3)\n",
    "    (1,3,4), (2)\n",
    "    (2,3,4), (1)\n",
    "    combinations for first group with 2 elements\n",
    "    (1,2), (3,4)\n",
    "    (1,2), (3),(4)\n",
    "    (1,3), (2,4)\n",
    "    (1,3), (2),(4)\n",
    "    (1,4), (2,3)\n",
    "    (1,4), (2),(3)"
   ]
  },
  {
   "cell_type": "code",
   "execution_count": 1,
   "metadata": {},
   "outputs": [],
   "source": [
    "import itertools \n",
    "import numpy as np\n",
    "from collections import defaultdict"
   ]
  },
  {
   "cell_type": "markdown",
   "metadata": {},
   "source": [
    "#### Naive Algorithm: \n",
    "> takes into account all the combinations and permutations"
   ]
  },
  {
   "cell_type": "code",
   "execution_count": 2,
   "metadata": {},
   "outputs": [],
   "source": [
    "def getAllSubsets(list_):\n",
    "    '''\n",
    "    Calculates all posible group arrangements for a given list. \n",
    "    args:\n",
    "        list_ (list): list of input numbers to arranged into groups \n",
    "    return:\n",
    "        subsets(list): list of all groups that can be constructed using the elements of the input list_\n",
    "    '''\n",
    "    subsets = []\n",
    "    for m in range(0, len(list_)+1):\n",
    "        for subset in itertools.combinations(list_, m): # combinations of the elements within the list having m elements per group\n",
    "            if len(subset)>0:\n",
    "                if max(subset)-min(subset)<=2: # checks if any subset elements differ more than 2 if not so add into subsets\n",
    "                    subsets.append(subset)\n",
    "    return subsets\n",
    "\n",
    "def getPotentialGroups(subsets,index_):\n",
    "    '''\n",
    "    For a given pair in the subset, collects subsets that do not contain any element of the given subset.\n",
    "    args:\n",
    "        subsets(list)\n",
    "        index_(int)\n",
    "    return:\n",
    "        potential_groups(list)\n",
    "    '''\n",
    "    queue = subsets.copy()\n",
    "    current_group = queue[index_] \n",
    "    queue.remove(current_group)\n",
    "    potential_groups = queue.copy()\n",
    "    for element in current_group:\n",
    "        for group in queue:\n",
    "            #print(group)\n",
    "            if element in group:\n",
    "                try:\n",
    "                    potential_groups.remove(group)\n",
    "                except Exception as e:\n",
    "                    #print(e)\n",
    "                    pass\n",
    "    potential_groups.append(current_group)\n",
    "    return potential_groups\n",
    "\n",
    "def checkEligibility(list_, potential_groups, number_of_groups):\n",
    "    '''\n",
    "    creates combinations from the given potential_groups list for length of given number of groups.\n",
    "    Ex: It will create 2 things first given that list_ = [1,2,3,4]:\n",
    "        permutations of the list for 4 elements: 1234, 1243, 1324, 1342 ... etc these are numeric sequences that contains all the\n",
    "        elements of the list. Any solution to this problem can be represented as one of these sequences. In short any solution\n",
    "        should contain every element in the given list and only one time.\n",
    "        Secondly it will create a permutation list from the potential groups.\n",
    "        IF potential groups = [((1,2),(3,4)),((1,3),(2,4))] which contains 2 elements then it will first create\n",
    "    permutation integers such as:\n",
    "        1234, 1324 \n",
    "        Check if 2 is in 1 so that we make sure to keep potential groups that contain all the elements of the list without repetition.\n",
    "    args:\n",
    "        list_ (list)\n",
    "        potential_groups(list)\n",
    "        number_of_groups(int): checks the eligibility for the permutations of number of groups \n",
    "    return:\n",
    "        combs(list): combinations that meet permutation criteria\n",
    "    '''\n",
    "    # permutations potential groups that contains all the items in the given list\n",
    "    # joins the list into a string, removes everything but numbers, converts them into integers\n",
    "    combs = []\n",
    "    perms = [int(''.join(str(perm)).replace(' ','').replace(',','').replace(')','').replace('(','')) for perm in itertools.permutations(list_,len(list_))]\n",
    "    for comb in itertools.combinations(potential_groups, number_of_groups):\n",
    "        #print(comb)\n",
    "        if int(''.join(str(comb)).replace(' ','').replace(',','').replace(')','').replace('(','') ) in perms:\n",
    "            #print('eligible combination ',comb)\n",
    "            combs.append(comb)\n",
    "    return combs\n",
    "\n",
    "def getAllCombinations(list_):\n",
    "    '''\n",
    "    args:\n",
    "        list_(list)\n",
    "    return:\n",
    "        results(defaultdict): result dictionary containing combinations, and number of groups required\n",
    "    '''\n",
    "    results = defaultdict(list)\n",
    "    subsets = getAllSubsets(list_)\n",
    "    #print(subsets)\n",
    "    index_=0\n",
    "    for index_ in range(len(subsets)):\n",
    "        potential_groups = getPotentialGroups(subsets,index_)\n",
    "        number_of_groups = 1\n",
    "        while number_of_groups<=len(list_):\n",
    "            group = checkEligibility(list_, potential_groups, number_of_groups)\n",
    "            if len(group)>0:\n",
    "                results[subsets[index_],number_of_groups] = group\n",
    "            number_of_groups+=1\n",
    "    return results\n",
    "\n",
    "def organizeResults(list_,results):\n",
    "    '''\n",
    "    Organizes the results dictionary for easy access to number of groups and combinations \n",
    "    args:\n",
    "        list_(list)\n",
    "        results(defaultdict)\n",
    "    return:\n",
    "        org_results(dict)\n",
    "    \n",
    "    '''\n",
    "    org_results = {}\n",
    "    for n in range(len(list_)):\n",
    "        temp_results = []\n",
    "        for m in results.keys():\n",
    "            if n == m[1]:\n",
    "                for result in results[m]:\n",
    "                    temp_results.append(result)\n",
    "        if len(temp_results)>0:\n",
    "            org_results[n] = temp_results\n",
    "    return org_results\n",
    "\n",
    "def getMinNumberOfGroups(org_results):\n",
    "    '''\n",
    "    args:\n",
    "        org_results(dict)\n",
    "    return:\n",
    "        int\n",
    "    '''\n",
    "    return min([key for key in org_results.keys()])\n",
    "\n",
    "def getCombsForMinNumberOfGroups(org_results,min_number_of_groups):\n",
    "    '''\n",
    "    args:\n",
    "        org_results(dict)\n",
    "        min_number_of_groups(int)\n",
    "    return:\n",
    "        list : slice of the org_results dictionary for the minimum number of groups that meets the problem solution\n",
    "    '''\n",
    "    return org_results[min_number_of_groups]"
   ]
  },
  {
   "cell_type": "code",
   "execution_count": 3,
   "metadata": {},
   "outputs": [
    {
     "name": "stdout",
     "output_type": "stream",
     "text": [
      "------\n",
      "3\n",
      "--- Valid Arrangements ---- \n"
     ]
    },
    {
     "data": {
      "text/plain": [
       "[((14,), (1, 2, 3), (5,)),\n",
       " ((5,), (1, 2, 3), (14,)),\n",
       " ((1, 2), (3, 5), (14,)),\n",
       " ((14,), (3, 5), (1, 2)),\n",
       " ((14,), (1, 2), (3, 5)),\n",
       " ((5,), (14,), (1, 2, 3))]"
      ]
     },
     "execution_count": 3,
     "metadata": {},
     "output_type": "execute_result"
    }
   ],
   "source": [
    "# example we have students with ages of 1,2,3,4: then what is the minimum arrangement \n",
    "list_ = [1,2,3,5,14]\n",
    "combinations = getAllCombinations(list_)\n",
    "#print('combinations')\n",
    "#print(combinations)\n",
    "org_results = organizeResults(list_,combinations)\n",
    "minNumberOfGroupsRequired = getMinNumberOfGroups(org_results)\n",
    "print('------')\n",
    "print(minNumberOfGroupsRequired)\n",
    "print('--- Valid Arrangements ---- ')\n",
    "getCombsForMinNumberOfGroups(org_results,minNumberOfGroupsRequired)"
   ]
  },
  {
   "cell_type": "markdown",
   "metadata": {},
   "source": [
    "### greedy algorithm"
   ]
  },
  {
   "cell_type": "markdown",
   "metadata": {},
   "source": [
    "    \n",
    "    sort the list asc\n",
    "    1. add first element into first group\n",
    "    2. add next elements one by one into first group if max-min<=2\n",
    "    3. else record first group and pop elements from the list\n",
    "    4. repeat 1,2,3 \n",
    "    "
   ]
  },
  {
   "cell_type": "code",
   "execution_count": 4,
   "metadata": {},
   "outputs": [],
   "source": [
    "def addRemove(sorted_list,group):\n",
    "    '''\n",
    "    args:\n",
    "        sorted_list(list)\n",
    "    return:\n",
    "        group(list)\n",
    "    '''\n",
    "    group.append(sorted_list[0])\n",
    "    sorted_list.pop(0)\n",
    "    return sorted_list, group\n",
    "\n",
    "def getMinGroups(sorted_list,group_number=0,groups={}): \n",
    "    '''\n",
    "    args:\n",
    "        sorted_list(list)\n",
    "        group_number(int)\n",
    "        groups(dict)\n",
    "    return:\n",
    "        groups(dict)\n",
    "    '''\n",
    "    group = []\n",
    "    max_ = 0\n",
    "    min_ = 0\n",
    "    while max_ - min_ <=2:\n",
    "        if len(sorted_list)>0:\n",
    "            #print(max_ - min_)\n",
    "            sorted_list,group = addRemove(sorted_list,group)\n",
    "            #print(group,sorted_list)\n",
    "            if len(sorted_list)>0:\n",
    "                min_ = group[0]\n",
    "                max_ = sorted_list[0]\n",
    "        else:\n",
    "            break\n",
    "    groups[group_number] = group\n",
    "    group_number +=1\n",
    "    if len(sorted_list)>0:\n",
    "        getMinGroups(sorted_list,group_number,groups)\n",
    "   \n",
    "    return groups\n",
    "\n",
    "def getMinNumOfGroups(groups):\n",
    "    return(len(groups.keys()))"
   ]
  },
  {
   "cell_type": "code",
   "execution_count": 5,
   "metadata": {},
   "outputs": [
    {
     "name": "stdout",
     "output_type": "stream",
     "text": [
      "{0: [1, 2, 3], 1: [5], 2: [14]}\n",
      "3\n"
     ]
    }
   ],
   "source": [
    "#example 1,2,3,5,14\n",
    "list_ = [1,2,3,5,14]\n",
    "sorted_list = sorted(list_)\n",
    "len(sorted_list)\n",
    "groups = getMinGroups(sorted_list,group_number=0,groups={})\n",
    "print(groups)\n",
    "print(getMinNumOfGroups(groups))"
   ]
  },
  {
   "cell_type": "markdown",
   "metadata": {},
   "source": [
    "Performances"
   ]
  },
  {
   "cell_type": "code",
   "execution_count": 6,
   "metadata": {},
   "outputs": [],
   "source": [
    "import matplotlib.pyplot as plt\n",
    "import pandas as pd\n",
    "from time import time\n",
    "get_ipython().run_line_magic('matplotlib', 'inline')\n",
    "import numpy as np\n",
    "def plotPerformance(performance,algoName,title):\n",
    "    try:\n",
    "        bs = pd.DataFrame(performance)\n",
    "        bs.columns=['input_size','mseconds']\n",
    "        fig, ax = plt.subplots()\n",
    "        _=ax.set_title(title)\n",
    "        _=ax.plot(bs.input_size,bs['mseconds'],label=algoName,color='blue')\n",
    "        _=ax.legend()\n",
    "        _=ax.grid()\n",
    "        _=ax.set_xlabel('input size')\n",
    "        _=ax.set_ylabel('mili seconds')\n",
    "        return True\n",
    "    except Exception as e:\n",
    "        print(e)\n",
    "        return False"
   ]
  },
  {
   "cell_type": "code",
   "execution_count": 7,
   "metadata": {},
   "outputs": [
    {
     "name": "stderr",
     "output_type": "stream",
     "text": [
      "C:\\Program Files (x86)\\Microsoft Visual Studio\\Shared\\Anaconda3_64\\lib\\site-packages\\ipykernel_launcher.py:3: DeprecationWarning: This function is deprecated. Please call randint(1, 13 + 1) instead\n",
      "  This is separate from the ipykernel package so we can avoid doing imports until\n"
     ]
    }
   ],
   "source": [
    "performance=[]\n",
    "for k in range(10000):\n",
    "    list_ = list(np.random.random_integers(1,13,k))\n",
    "    t0 = time()*1000 # miliseconds\n",
    "    groups = getMinGroups(sorted_list,group_number=0,groups={})\n",
    "    t1 = time()*1000 # miliseconds\n",
    "    t_delta = (t1-t0)\n",
    "    k +=1\n",
    "    performance.append((k,t_delta))"
   ]
  },
  {
   "cell_type": "code",
   "execution_count": 8,
   "metadata": {},
   "outputs": [
    {
     "data": {
      "text/plain": [
       "True"
      ]
     },
     "execution_count": 8,
     "metadata": {},
     "output_type": "execute_result"
    },
    {
     "data": {
      "image/png": "[encoded data removed]",
      "text/plain": [
       "<Figure size 432x288 with 1 Axes>"
      ]
     },
     "metadata": {},
     "output_type": "display_data"
    }
   ],
   "source": [
    "plotPerformance(performance,'greedy','min_')"
   ]
  },
  {
   "cell_type": "code",
   "execution_count": 9,
   "metadata": {},
   "outputs": [
    {
     "name": "stderr",
     "output_type": "stream",
     "text": [
      "C:\\Program Files (x86)\\Microsoft Visual Studio\\Shared\\Anaconda3_64\\lib\\site-packages\\ipykernel_launcher.py:3: DeprecationWarning: This function is deprecated. Please call randint(1, 13 + 1) instead\n",
      "  This is separate from the ipykernel package so we can avoid doing imports until\n"
     ]
    },
    {
     "name": "stdout",
     "output_type": "stream",
     "text": [
      "[2, 12]\n",
      "[2, 9, 9]\n",
      "[12, 8, 13, 9]\n",
      "[10, 1, 7, 3, 3]\n",
      "[1, 12, 4, 9, 12, 6]\n",
      "[3, 1, 12, 1, 8, 12, 6]\n"
     ]
    }
   ],
   "source": [
    "performance=[]\n",
    "for k in range(6):\n",
    "    list_ = list(np.random.random_integers(1,13,k+2))\n",
    "    print(list_)\n",
    "    t0 = time()*1000 # miliseconds\n",
    "    combinations = getAllCombinations(list_)\n",
    "    org_results = organizeResults(list_,combinations)\n",
    "    t1 = time()*1000 # miliseconds\n",
    "    t_delta = (t1-t0)\n",
    "    k +=1\n",
    "    performance.append((k,t_delta))"
   ]
  },
  {
   "cell_type": "code",
   "execution_count": 10,
   "metadata": {},
   "outputs": [
    {
     "data": {
      "text/plain": [
       "True"
      ]
     },
     "execution_count": 10,
     "metadata": {},
     "output_type": "execute_result"
    },
    {
     "data": {
      "image/png": "[encoded data removed]",
      "text/plain": [
       "<Figure size 432x288 with 1 Axes>"
      ]
     },
     "metadata": {},
     "output_type": "display_data"
    }
   ],
   "source": [
    "plotPerformance(performance,'naive','min_')"
   ]
  },
  {
   "cell_type": "code",
   "execution_count": null,
   "metadata": {},
   "outputs": [],
   "source": []
  }
 ],
 "metadata": {
  "kernelspec": {
   "display_name": "Python 3",
   "language": "python",
   "name": "python3"
  },
  "language_info": {
   "codemirror_mode": {
    "name": "ipython",
    "version": 3
   },
   "file_extension": ".py",
   "mimetype": "text/x-python",
   "name": "python",
   "nbconvert_exporter": "python",
   "pygments_lexer": "ipython3",
   "version": "3.6.5"
  }
 },
 "nbformat": 4,
 "nbformat_minor": 2
}
